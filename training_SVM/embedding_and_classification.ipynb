{
 "cells": [
  {
   "cell_type": "code",
   "execution_count": 2,
   "metadata": {},
   "outputs": [],
   "source": [
    "import cv2, os\n",
    "import matplotlib.pyplot as plt\n",
    "import seaborn as sns\n",
    "import numpy as np\n",
    "import pandas as pd\n",
    "import re\n",
    "import torch\n",
    "from torchvision import datasets\n",
    "import torchvision.utils as tv_utils\n",
    "from torch.utils.data import DataLoader\n",
    "from torch.utils.data import TensorDataset, DataLoader\n",
    "workers = 0 if os.name == 'nt' else 4"
   ]
  },
  {
   "cell_type": "code",
   "execution_count": 3,
   "metadata": {},
   "outputs": [],
   "source": [
    "MIN_FACE_CONFIDENCE = 0.95\n",
    "OUTPUT_FOLDER = 'photos_friends_actors'"
   ]
  },
  {
   "cell_type": "code",
   "execution_count": 24,
   "metadata": {},
   "outputs": [],
   "source": [
    "names_dict={'Chandler':0, 'Joey':1, 'Monica':2, 'Phoebe':3, 'Rachel':4, 'Ross':5}"
   ]
  },
  {
   "cell_type": "code",
   "execution_count": 25,
   "metadata": {},
   "outputs": [],
   "source": [
    "name_list=list(names_dict.keys())"
   ]
  },
  {
   "cell_type": "code",
   "execution_count": 4,
   "metadata": {},
   "outputs": [
    {
     "name": "stdout",
     "output_type": "stream",
     "text": [
      "Running on device: cpu\n"
     ]
    }
   ],
   "source": [
    "from facenet_pytorch import MTCNN, InceptionResnetV1\n",
    "# read https://github.com/timesler/facenet-pytorch/blob/master/examples/infer.ipynb\n",
    "\n",
    "device = torch.device('cuda:0' if torch.cuda.is_available() else 'cpu')\n",
    "print('Running on device: {}'.format(device))\n",
    "\n",
    "resnet = InceptionResnetV1(pretrained='vggface2').eval().to(device)"
   ]
  },
  {
   "cell_type": "code",
   "execution_count": 5,
   "metadata": {},
   "outputs": [],
   "source": [
    "mtcnn = MTCNN(\n",
    "    image_size=160, margin=0, min_face_size=20,\n",
    "    thresholds=[0.6, 0.7, 0.7], factor=0.709, prewhiten=True, keep_all=True, \n",
    "    device=device\n",
    ")"
   ]
  },
  {
   "cell_type": "code",
   "execution_count": 6,
   "metadata": {},
   "outputs": [],
   "source": [
    "def collate_fn(x):\n",
    "    return x[0]"
   ]
  },
  {
   "cell_type": "code",
   "execution_count": 7,
   "metadata": {},
   "outputs": [],
   "source": [
    "dataset=datasets.ImageFolder(OUTPUT_FOLDER)\n",
    "dataset.idx_to_class = {i:c for c, i in dataset.class_to_idx.items()}\n",
    "loader = DataLoader(dataset, collate_fn=collate_fn, num_workers=workers)"
   ]
  },
  {
   "cell_type": "code",
   "execution_count": 8,
   "metadata": {},
   "outputs": [
    {
     "name": "stdout",
     "output_type": "stream",
     "text": [
      "Face detected with probability: 0.999998\n",
      "Face detected with probability: 0.999758\n",
      "Face detected with probability: 0.999740\n",
      "Face detected with probability: 0.999960\n",
      "Face detected with probability: 0.999613\n",
      "Face detected with probability: 0.999999\n",
      "Face detected with probability: 0.999715\n",
      "Face detected with probability: 0.999980\n",
      "Face detected with probability: 0.999989\n",
      "Face detected with probability: 0.999945\n",
      "Face detected with probability: 0.999883\n",
      "Face detected with probability: 0.999998\n",
      "Face detected with probability: 0.999999\n",
      "Face detected with probability: 0.999882\n",
      "Face detected with probability: 0.999988\n",
      "Face detected with probability: 0.999650\n",
      "Face detected with probability: 0.999971\n",
      "Face detected with probability: 0.999034\n",
      "Face detected with probability: 0.999707\n",
      "Face detected with probability: 0.999911\n",
      "Face detected with probability: 0.893902\n",
      "Face detected with probability: 0.999981\n",
      "Face detected with probability: 0.999773\n",
      "Face detected with probability: 0.999643\n",
      "Face detected with probability: 0.999998\n",
      "Face detected with probability: 1.000000\n",
      "Face detected with probability: 0.999989\n",
      "Face detected with probability: 0.999939\n",
      "Face detected with probability: 0.999999\n",
      "Face detected with probability: 0.999999\n",
      "Face detected with probability: 0.999992\n",
      "Face detected with probability: 0.999567\n",
      "Face detected with probability: 0.999996\n",
      "Face detected with probability: 0.999800\n",
      "Face detected with probability: 0.999983\n",
      "Face detected with probability: 0.999615\n",
      "Face detected with probability: 0.999967\n",
      "Face detected with probability: 0.999555\n",
      "Face detected with probability: 0.999964\n",
      "Face detected with probability: 0.999016\n",
      "Face detected with probability: 0.999971\n",
      "Face detected with probability: 0.999565\n",
      "Face detected with probability: 0.996274\n",
      "Face detected with probability: 0.997182\n",
      "Face detected with probability: 0.999971\n",
      "Face detected with probability: 0.999870\n",
      "Face detected with probability: 0.998694\n",
      "Face detected with probability: 0.999994\n",
      "Face detected with probability: 0.999709\n",
      "Face detected with probability: 0.990997\n",
      "Face detected with probability: 0.999748\n",
      "Face detected with probability: 0.996143\n",
      "Face detected with probability: 0.999971\n",
      "Face detected with probability: 0.992733\n",
      "Face detected with probability: 0.998762\n",
      "Face detected with probability: 0.999697\n",
      "Face detected with probability: 0.999625\n",
      "Face detected with probability: 0.999991\n",
      "Face detected with probability: 0.999645\n",
      "Face detected with probability: 0.999020\n",
      "Face detected with probability: 0.999524\n",
      "Face detected with probability: 0.999426\n",
      "Face detected with probability: 0.999844\n",
      "Face detected with probability: 0.997295\n",
      "Face detected with probability: 0.999510\n",
      "Face detected with probability: 0.999938\n",
      "Face detected with probability: 0.998608\n",
      "Face detected with probability: 0.999883\n",
      "Face detected with probability: 0.999259\n",
      "Face detected with probability: 0.999832\n",
      "Face detected with probability: 0.999017\n",
      "Face detected with probability: 0.999094\n",
      "Face detected with probability: 0.999736\n",
      "Face detected with probability: 0.999754\n",
      "Face detected with probability: 0.999985\n",
      "Face detected with probability: 0.999779\n",
      "Face detected with probability: 0.999975\n",
      "Face detected with probability: 0.999990\n",
      "Face detected with probability: 0.999713\n",
      "Face detected with probability: 0.997579\n",
      "Face detected with probability: 0.997423\n",
      "Face detected with probability: 0.999871\n",
      "Face detected with probability: 0.999848\n",
      "Face detected with probability: 0.999999\n",
      "Face detected with probability: 0.999153\n",
      "Face detected with probability: 0.999961\n",
      "Face detected with probability: 0.999224\n",
      "Face detected with probability: 0.999997\n",
      "Face detected with probability: 0.999863\n",
      "Face detected with probability: 0.999906\n",
      "Face detected with probability: 0.812774\n",
      "Face detected with probability: 0.999882\n",
      "Face detected with probability: 0.997803\n",
      "Face detected with probability: 0.999620\n",
      "Face detected with probability: 0.999916\n",
      "Face detected with probability: 0.999502\n",
      "Face detected with probability: 0.999950\n",
      "Face detected with probability: 0.999226\n",
      "Face detected with probability: 0.999083\n",
      "Face detected with probability: 0.999999\n",
      "Face detected with probability: 0.999084\n",
      "Face detected with probability: 0.999935\n",
      "Face detected with probability: 0.999966\n",
      "Face detected with probability: 0.999998\n",
      "Face detected with probability: 0.993771\n",
      "Face detected with probability: 0.999979\n",
      "Face detected with probability: 0.999997\n",
      "Face detected with probability: 0.999086\n",
      "Face detected with probability: 0.999987\n",
      "Face detected with probability: 0.999725\n",
      "Face detected with probability: 0.998706\n",
      "Face detected with probability: 0.999969\n",
      "Face detected with probability: 0.999915\n",
      "Face detected with probability: 0.999979\n",
      "Face detected with probability: 0.999719\n",
      "Face detected with probability: 0.999345\n",
      "Face detected with probability: 0.999999\n",
      "Face detected with probability: 0.999805\n",
      "Face detected with probability: 0.998831\n",
      "Face detected with probability: 0.999988\n",
      "Face detected with probability: 0.999394\n",
      "Face detected with probability: 0.999994\n",
      "Face detected with probability: 0.997492\n"
     ]
    }
   ],
   "source": [
    "aligned = []\n",
    "names = []\n",
    "#ind_img=0\n",
    "#ind_face=0\n",
    "for x,y in loader:\n",
    "    x_aligned, prob = mtcnn(x, return_prob=True)\n",
    "    if x_aligned is not None:\n",
    "        for face,p in  zip(x_aligned,prob):\n",
    "            print(f'Face detected with probability: {p:.6f}')\n",
    "            if p>=MIN_FACE_CONFIDENCE:\n",
    "                aligned.append(face)\n",
    "                names.append(dataset.idx_to_class[y])"
   ]
  },
  {
   "cell_type": "code",
   "execution_count": 9,
   "metadata": {},
   "outputs": [
    {
     "data": {
      "text/plain": [
       "torch.Size([3, 160, 160])"
      ]
     },
     "execution_count": 9,
     "metadata": {},
     "output_type": "execute_result"
    }
   ],
   "source": [
    "aligned[0].shape"
   ]
  },
  {
   "cell_type": "code",
   "execution_count": 10,
   "metadata": {},
   "outputs": [],
   "source": [
    "X =torch.stack(aligned).to(device)\n",
    "batch_size = 32\n",
    "embeddings = [resnet(X[k:k+batch_size]).detach().cpu() for k in range(0, X.shape[0], batch_size)]\n",
    "embeddings = torch.cat(embeddings, dim = 0)\n"
   ]
  },
  {
   "cell_type": "code",
   "execution_count": 11,
   "metadata": {},
   "outputs": [],
   "source": [
    "X_vectors=embeddings.data.numpy()"
   ]
  },
  {
   "cell_type": "code",
   "execution_count": 13,
   "metadata": {},
   "outputs": [],
   "source": [
    "y=np.array([names_dict[name] for name in names])"
   ]
  },
  {
   "cell_type": "code",
   "execution_count": 14,
   "metadata": {},
   "outputs": [],
   "source": [
    "from sklearn.model_selection import train_test_split\n",
    "from sklearn import svm\n",
    "from sklearn import metrics\n",
    "from sklearn.preprocessing import Normalizer"
   ]
  },
  {
   "cell_type": "code",
   "execution_count": 15,
   "metadata": {},
   "outputs": [],
   "source": [
    "X_train, X_test, y_train, y_test=train_test_split(X_vectors,y,test_size=0.30, stratify=y)"
   ]
  },
  {
   "cell_type": "code",
   "execution_count": 16,
   "metadata": {},
   "outputs": [],
   "source": [
    "# https://machinelearningmastery.com/how-to-develop-a-face-recognition-system-using-facenet-in-keras-and-an-svm-classifier/\n",
    "\n",
    "# normalize input vectors\n",
    "in_encoder = Normalizer(norm='l2')\n",
    "X_train = in_encoder.transform(X_train)\n",
    "X_test = in_encoder.transform(X_test)"
   ]
  },
  {
   "cell_type": "code",
   "execution_count": 23,
   "metadata": {},
   "outputs": [],
   "source": [
    "from joblib import dump, load\n",
    "def model_test(X_train,y_train,X_test,y_test, C=1, kernel='linear', gamma='auto', decision_function_shape='ovr'):\n",
    "    model=svm.SVC(C=C, kernel=kernel, gamma=gamma, decision_function_shape=decision_function_shape)\n",
    "    model.fit(X_train,y_train)\n",
    "    y_pred=model.predict(X_test)\n",
    "    dump(model, 'data\\svm_model.joblib') \n",
    "    return y_pred"
   ]
  },
  {
   "cell_type": "code",
   "execution_count": 32,
   "metadata": {},
   "outputs": [],
   "source": [
    "def show_metrics(y_test, y_pred):\n",
    "    print(\"Accuracy:\",metrics.accuracy_score(y_test, y_pred))\n",
    "    print(\"Precision:\",metrics.precision_score(y_test, y_pred,average=None))\n",
    "    print(\"Recall:\",metrics.recall_score(y_test, y_pred,average=None))\n",
    "    c_matrix = pd.DataFrame(metrics.confusion_matrix(y_test,y_pred), columns=name_list, index=name_list)\n",
    "\n",
    "    ax=sns.heatmap(c_matrix, annot=True)\n",
    "    plt.xlabel('Predicted Name', fontsize=14)\n",
    "    plt.ylabel('Actual Name', fontsize=14)\n",
    "    ax.set_xticklabels(name_list,fontsize=12, rotation=45)\n",
    "    plt.savefig('SVM_confusion matrix.svg', format='svg')\n",
    "    plt.show()\n"
   ]
  },
  {
   "cell_type": "code",
   "execution_count": 28,
   "metadata": {},
   "outputs": [],
   "source": [
    "y_pred=model_test(X_train,y_train,X_test,y_test, decision_function_shape='ovo')"
   ]
  },
  {
   "cell_type": "code",
   "execution_count": 33,
   "metadata": {},
   "outputs": [
    {
     "name": "stdout",
     "output_type": "stream",
     "text": [
      "Accuracy: 1.0\n",
      "Precision: [1. 1. 1. 1. 1. 1.]\n",
      "Recall: [1. 1. 1. 1. 1. 1.]\n"
     ]
    },
    {
     "data": {
      "image/png": "[encoded data removed]",
      "text/plain": [
       "<Figure size 432x288 with 2 Axes>"
      ]
     },
     "metadata": {
      "needs_background": "light"
     },
     "output_type": "display_data"
    }
   ],
   "source": [
    "show_metrics(y_test,y_pred)"
   ]
  },
  {
   "cell_type": "code",
   "execution_count": null,
   "metadata": {},
   "outputs": [],
   "source": []
  }
 ],
 "metadata": {
  "kernelspec": {
   "display_name": "Python 3",
   "language": "python",
   "name": "python3"
  },
  "language_info": {
   "codemirror_mode": {
    "name": "ipython",
    "version": 3
   },
   "file_extension": ".py",
   "mimetype": "text/x-python",
   "name": "python",
   "nbconvert_exporter": "python",
   "pygments_lexer": "ipython3",
   "version": "3.7.3"
  }
 },
 "nbformat": 4,
 "nbformat_minor": 2
}
