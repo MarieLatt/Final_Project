{
 "cells": [
  {
   "cell_type": "code",
   "execution_count": 1,
   "metadata": {},
   "outputs": [],
   "source": [
    "from __future__ import division\n",
    "import pandas as pd\n",
    "import numpy as np\n",
    "import matplotlib.pyplot as plt\n",
    "import cv2\n",
    "%matplotlib inline"
   ]
  },
  {
   "cell_type": "code",
   "execution_count": 2,
   "metadata": {},
   "outputs": [],
   "source": [
    "df=pd.read_csv('friends_faces_160/target.txt', sep='\\t', header=None)\n",
    "df.columns=['image_path','character_number','character_name']"
   ]
  },
  {
   "cell_type": "code",
   "execution_count": 3,
   "metadata": {},
   "outputs": [
    {
     "data": {
      "text/html": [
       "<div>\n",
       "<style scoped>\n",
       "    .dataframe tbody tr th:only-of-type {\n",
       "        vertical-align: middle;\n",
       "    }\n",
       "\n",
       "    .dataframe tbody tr th {\n",
       "        vertical-align: top;\n",
       "    }\n",
       "\n",
       "    .dataframe thead th {\n",
       "        text-align: right;\n",
       "    }\n",
       "</style>\n",
       "<table border=\"1\" class=\"dataframe\">\n",
       "  <thead>\n",
       "    <tr style=\"text-align: right;\">\n",
       "      <th></th>\n",
       "      <th>image_path</th>\n",
       "      <th>character_number</th>\n",
       "      <th>character_name</th>\n",
       "    </tr>\n",
       "  </thead>\n",
       "  <tbody>\n",
       "    <tr>\n",
       "      <th>2560</th>\n",
       "      <td>friends_faces_160\\friends_335_900.png</td>\n",
       "      <td>7</td>\n",
       "      <td>Invalid</td>\n",
       "    </tr>\n",
       "    <tr>\n",
       "      <th>813</th>\n",
       "      <td>friends_faces_160\\friends_1287_3418.png</td>\n",
       "      <td>7</td>\n",
       "      <td>Invalid</td>\n",
       "    </tr>\n",
       "    <tr>\n",
       "      <th>2995</th>\n",
       "      <td>friends_faces_160\\friends_535_1326.png</td>\n",
       "      <td>7</td>\n",
       "      <td>Invalid</td>\n",
       "    </tr>\n",
       "    <tr>\n",
       "      <th>1515</th>\n",
       "      <td>friends_faces_160\\friends_1550_4109.png</td>\n",
       "      <td>7</td>\n",
       "      <td>Invalid</td>\n",
       "    </tr>\n",
       "    <tr>\n",
       "      <th>793</th>\n",
       "      <td>friends_faces_160\\friends_127_362.png</td>\n",
       "      <td>7</td>\n",
       "      <td>Invalid</td>\n",
       "    </tr>\n",
       "    <tr>\n",
       "      <th>399</th>\n",
       "      <td>friends_faces_160\\friends_1133_3031.png</td>\n",
       "      <td>5</td>\n",
       "      <td>Joey</td>\n",
       "    </tr>\n",
       "    <tr>\n",
       "      <th>3422</th>\n",
       "      <td>friends_faces_160\\friends_683_1728.png</td>\n",
       "      <td>1</td>\n",
       "      <td>Ross</td>\n",
       "    </tr>\n",
       "    <tr>\n",
       "      <th>612</th>\n",
       "      <td>friends_faces_160\\friends_1215_3237.png</td>\n",
       "      <td>2</td>\n",
       "      <td>Chandler</td>\n",
       "    </tr>\n",
       "    <tr>\n",
       "      <th>737</th>\n",
       "      <td>friends_faces_160\\friends_125_359.png</td>\n",
       "      <td>5</td>\n",
       "      <td>Joey</td>\n",
       "    </tr>\n",
       "    <tr>\n",
       "      <th>2214</th>\n",
       "      <td>friends_faces_160\\friends_193_541.png</td>\n",
       "      <td>7</td>\n",
       "      <td>Invalid</td>\n",
       "    </tr>\n",
       "  </tbody>\n",
       "</table>\n",
       "</div>"
      ],
      "text/plain": [
       "                                   image_path  character_number character_name\n",
       "2560    friends_faces_160\\friends_335_900.png                 7        Invalid\n",
       "813   friends_faces_160\\friends_1287_3418.png                 7        Invalid\n",
       "2995   friends_faces_160\\friends_535_1326.png                 7        Invalid\n",
       "1515  friends_faces_160\\friends_1550_4109.png                 7        Invalid\n",
       "793     friends_faces_160\\friends_127_362.png                 7        Invalid\n",
       "399   friends_faces_160\\friends_1133_3031.png                 5           Joey\n",
       "3422   friends_faces_160\\friends_683_1728.png                 1           Ross\n",
       "612   friends_faces_160\\friends_1215_3237.png                 2       Chandler\n",
       "737     friends_faces_160\\friends_125_359.png                 5           Joey\n",
       "2214    friends_faces_160\\friends_193_541.png                 7        Invalid"
      ]
     },
     "execution_count": 3,
     "metadata": {},
     "output_type": "execute_result"
    }
   ],
   "source": [
    "df.sample(10)"
   ]
  },
  {
   "cell_type": "code",
   "execution_count": 4,
   "metadata": {},
   "outputs": [
    {
     "data": {
      "text/html": [
       "<div>\n",
       "<style scoped>\n",
       "    .dataframe tbody tr th:only-of-type {\n",
       "        vertical-align: middle;\n",
       "    }\n",
       "\n",
       "    .dataframe tbody tr th {\n",
       "        vertical-align: top;\n",
       "    }\n",
       "\n",
       "    .dataframe thead th {\n",
       "        text-align: right;\n",
       "    }\n",
       "</style>\n",
       "<table border=\"1\" class=\"dataframe\">\n",
       "  <thead>\n",
       "    <tr style=\"text-align: right;\">\n",
       "      <th></th>\n",
       "      <th></th>\n",
       "      <th>image_path</th>\n",
       "    </tr>\n",
       "    <tr>\n",
       "      <th>character_name</th>\n",
       "      <th>character_number</th>\n",
       "      <th></th>\n",
       "    </tr>\n",
       "  </thead>\n",
       "  <tbody>\n",
       "    <tr>\n",
       "      <th>Rachel</th>\n",
       "      <th>0</th>\n",
       "      <td>256</td>\n",
       "    </tr>\n",
       "    <tr>\n",
       "      <th>Ross</th>\n",
       "      <th>1</th>\n",
       "      <td>207</td>\n",
       "    </tr>\n",
       "    <tr>\n",
       "      <th>Chandler</th>\n",
       "      <th>2</th>\n",
       "      <td>184</td>\n",
       "    </tr>\n",
       "    <tr>\n",
       "      <th>Phoebe</th>\n",
       "      <th>3</th>\n",
       "      <td>202</td>\n",
       "    </tr>\n",
       "    <tr>\n",
       "      <th>Monica</th>\n",
       "      <th>4</th>\n",
       "      <td>213</td>\n",
       "    </tr>\n",
       "    <tr>\n",
       "      <th>Joey</th>\n",
       "      <th>5</th>\n",
       "      <td>199</td>\n",
       "    </tr>\n",
       "    <tr>\n",
       "      <th>Other</th>\n",
       "      <th>6</th>\n",
       "      <td>283</td>\n",
       "    </tr>\n",
       "    <tr>\n",
       "      <th>Invalid</th>\n",
       "      <th>7</th>\n",
       "      <td>2750</td>\n",
       "    </tr>\n",
       "  </tbody>\n",
       "</table>\n",
       "</div>"
      ],
      "text/plain": [
       "                                 image_path\n",
       "character_name character_number            \n",
       "Rachel         0                        256\n",
       "Ross           1                        207\n",
       "Chandler       2                        184\n",
       "Phoebe         3                        202\n",
       "Monica         4                        213\n",
       "Joey           5                        199\n",
       "Other          6                        283\n",
       "Invalid        7                       2750"
      ]
     },
     "execution_count": 4,
     "metadata": {},
     "output_type": "execute_result"
    }
   ],
   "source": [
    "df.groupby([\"character_name\",\"character_number\"]).count().sort_values(by='character_number')"
   ]
  },
  {
   "cell_type": "markdown",
   "metadata": {},
   "source": [
    "### Removing invalid and 'others' (= not Friends Gang)"
   ]
  },
  {
   "cell_type": "code",
   "execution_count": 5,
   "metadata": {},
   "outputs": [],
   "source": [
    "df_filtered=df.loc[df.character_number<6]"
   ]
  },
  {
   "cell_type": "code",
   "execution_count": 6,
   "metadata": {},
   "outputs": [
    {
     "data": {
      "text/html": [
       "<div>\n",
       "<style scoped>\n",
       "    .dataframe tbody tr th:only-of-type {\n",
       "        vertical-align: middle;\n",
       "    }\n",
       "\n",
       "    .dataframe tbody tr th {\n",
       "        vertical-align: top;\n",
       "    }\n",
       "\n",
       "    .dataframe thead th {\n",
       "        text-align: right;\n",
       "    }\n",
       "</style>\n",
       "<table border=\"1\" class=\"dataframe\">\n",
       "  <thead>\n",
       "    <tr style=\"text-align: right;\">\n",
       "      <th></th>\n",
       "      <th>image_path</th>\n",
       "      <th>character_number</th>\n",
       "      <th>character_name</th>\n",
       "    </tr>\n",
       "  </thead>\n",
       "  <tbody>\n",
       "    <tr>\n",
       "      <th>0</th>\n",
       "      <td>friends_faces_160\\Friends_new_0_1.png</td>\n",
       "      <td>5</td>\n",
       "      <td>Joey</td>\n",
       "    </tr>\n",
       "    <tr>\n",
       "      <th>14</th>\n",
       "      <td>friends_faces_160\\friends_1002_2612.png</td>\n",
       "      <td>0</td>\n",
       "      <td>Rachel</td>\n",
       "    </tr>\n",
       "    <tr>\n",
       "      <th>20</th>\n",
       "      <td>friends_faces_160\\friends_1004_2619.png</td>\n",
       "      <td>5</td>\n",
       "      <td>Joey</td>\n",
       "    </tr>\n",
       "    <tr>\n",
       "      <th>22</th>\n",
       "      <td>friends_faces_160\\friends_1004_2621.png</td>\n",
       "      <td>4</td>\n",
       "      <td>Monica</td>\n",
       "    </tr>\n",
       "    <tr>\n",
       "      <th>30</th>\n",
       "      <td>friends_faces_160\\friends_1006_2630.png</td>\n",
       "      <td>5</td>\n",
       "      <td>Joey</td>\n",
       "    </tr>\n",
       "  </tbody>\n",
       "</table>\n",
       "</div>"
      ],
      "text/plain": [
       "                                 image_path  character_number character_name\n",
       "0     friends_faces_160\\Friends_new_0_1.png                 5           Joey\n",
       "14  friends_faces_160\\friends_1002_2612.png                 0         Rachel\n",
       "20  friends_faces_160\\friends_1004_2619.png                 5           Joey\n",
       "22  friends_faces_160\\friends_1004_2621.png                 4         Monica\n",
       "30  friends_faces_160\\friends_1006_2630.png                 5           Joey"
      ]
     },
     "execution_count": 6,
     "metadata": {},
     "output_type": "execute_result"
    }
   ],
   "source": [
    "df_filtered.head()"
   ]
  },
  {
   "cell_type": "code",
   "execution_count": 7,
   "metadata": {},
   "outputs": [],
   "source": [
    "from sklearn.model_selection import train_test_split"
   ]
  },
  {
   "cell_type": "code",
   "execution_count": 8,
   "metadata": {},
   "outputs": [],
   "source": [
    "df_train2, df_test = train_test_split(df_filtered, stratify=df_filtered.character_number, train_size = 0.8,random_state=33)"
   ]
  },
  {
   "cell_type": "code",
   "execution_count": 9,
   "metadata": {},
   "outputs": [
    {
     "data": {
      "text/html": [
       "<div>\n",
       "<style scoped>\n",
       "    .dataframe tbody tr th:only-of-type {\n",
       "        vertical-align: middle;\n",
       "    }\n",
       "\n",
       "    .dataframe tbody tr th {\n",
       "        vertical-align: top;\n",
       "    }\n",
       "\n",
       "    .dataframe thead th {\n",
       "        text-align: right;\n",
       "    }\n",
       "</style>\n",
       "<table border=\"1\" class=\"dataframe\">\n",
       "  <thead>\n",
       "    <tr style=\"text-align: right;\">\n",
       "      <th></th>\n",
       "      <th>image_path</th>\n",
       "      <th>character_number</th>\n",
       "      <th>character_name</th>\n",
       "    </tr>\n",
       "  </thead>\n",
       "  <tbody>\n",
       "    <tr>\n",
       "      <th>3398</th>\n",
       "      <td>friends_faces_160\\friends_673_1710.png</td>\n",
       "      <td>1</td>\n",
       "      <td>Ross</td>\n",
       "    </tr>\n",
       "    <tr>\n",
       "      <th>3055</th>\n",
       "      <td>friends_faces_160\\friends_584_1377.png</td>\n",
       "      <td>4</td>\n",
       "      <td>Monica</td>\n",
       "    </tr>\n",
       "    <tr>\n",
       "      <th>2935</th>\n",
       "      <td>friends_faces_160\\friends_48_144.png</td>\n",
       "      <td>5</td>\n",
       "      <td>Joey</td>\n",
       "    </tr>\n",
       "    <tr>\n",
       "      <th>262</th>\n",
       "      <td>friends_faces_160\\friends_1076_2889.png</td>\n",
       "      <td>3</td>\n",
       "      <td>Phoebe</td>\n",
       "    </tr>\n",
       "    <tr>\n",
       "      <th>3472</th>\n",
       "      <td>friends_faces_160\\friends_704_1774.png</td>\n",
       "      <td>3</td>\n",
       "      <td>Phoebe</td>\n",
       "    </tr>\n",
       "  </tbody>\n",
       "</table>\n",
       "</div>"
      ],
      "text/plain": [
       "                                   image_path  character_number character_name\n",
       "3398   friends_faces_160\\friends_673_1710.png                 1           Ross\n",
       "3055   friends_faces_160\\friends_584_1377.png                 4         Monica\n",
       "2935     friends_faces_160\\friends_48_144.png                 5           Joey\n",
       "262   friends_faces_160\\friends_1076_2889.png                 3         Phoebe\n",
       "3472   friends_faces_160\\friends_704_1774.png                 3         Phoebe"
      ]
     },
     "execution_count": 9,
     "metadata": {},
     "output_type": "execute_result"
    }
   ],
   "source": [
    "df_test.head()"
   ]
  },
  {
   "cell_type": "code",
   "execution_count": 10,
   "metadata": {},
   "outputs": [
    {
     "data": {
      "text/plain": [
       "(253, 3)"
      ]
     },
     "execution_count": 10,
     "metadata": {},
     "output_type": "execute_result"
    }
   ],
   "source": [
    "df_test.shape"
   ]
  },
  {
   "cell_type": "code",
   "execution_count": 11,
   "metadata": {},
   "outputs": [
    {
     "data": {
      "text/plain": [
       "Rachel      51\n",
       "Monica      43\n",
       "Ross        42\n",
       "Phoebe      40\n",
       "Joey        40\n",
       "Chandler    37\n",
       "Name: character_name, dtype: int64"
      ]
     },
     "execution_count": 11,
     "metadata": {},
     "output_type": "execute_result"
    }
   ],
   "source": [
    "df_test.character_name.value_counts()"
   ]
  },
  {
   "cell_type": "code",
   "execution_count": 12,
   "metadata": {},
   "outputs": [],
   "source": [
    "df_train, df_val = train_test_split(df_train2, stratify=df_train2.character_number, train_size = 0.75,random_state=33)"
   ]
  },
  {
   "cell_type": "code",
   "execution_count": 13,
   "metadata": {},
   "outputs": [
    {
     "data": {
      "text/html": [
       "<div>\n",
       "<style scoped>\n",
       "    .dataframe tbody tr th:only-of-type {\n",
       "        vertical-align: middle;\n",
       "    }\n",
       "\n",
       "    .dataframe tbody tr th {\n",
       "        vertical-align: top;\n",
       "    }\n",
       "\n",
       "    .dataframe thead th {\n",
       "        text-align: right;\n",
       "    }\n",
       "</style>\n",
       "<table border=\"1\" class=\"dataframe\">\n",
       "  <thead>\n",
       "    <tr style=\"text-align: right;\">\n",
       "      <th></th>\n",
       "      <th>image_path</th>\n",
       "      <th>character_number</th>\n",
       "      <th>character_name</th>\n",
       "    </tr>\n",
       "  </thead>\n",
       "  <tbody>\n",
       "    <tr>\n",
       "      <th>1930</th>\n",
       "      <td>friends_faces_160\\friends_1722_4514.png</td>\n",
       "      <td>1</td>\n",
       "      <td>Ross</td>\n",
       "    </tr>\n",
       "    <tr>\n",
       "      <th>387</th>\n",
       "      <td>friends_faces_160\\friends_1129_3020.png</td>\n",
       "      <td>4</td>\n",
       "      <td>Monica</td>\n",
       "    </tr>\n",
       "    <tr>\n",
       "      <th>2509</th>\n",
       "      <td>friends_faces_160\\friends_314_847.png</td>\n",
       "      <td>2</td>\n",
       "      <td>Chandler</td>\n",
       "    </tr>\n",
       "    <tr>\n",
       "      <th>3241</th>\n",
       "      <td>friends_faces_160\\friends_636_1555.png</td>\n",
       "      <td>1</td>\n",
       "      <td>Ross</td>\n",
       "    </tr>\n",
       "    <tr>\n",
       "      <th>3183</th>\n",
       "      <td>friends_faces_160\\friends_629_1495.png</td>\n",
       "      <td>3</td>\n",
       "      <td>Phoebe</td>\n",
       "    </tr>\n",
       "  </tbody>\n",
       "</table>\n",
       "</div>"
      ],
      "text/plain": [
       "                                   image_path  character_number character_name\n",
       "1930  friends_faces_160\\friends_1722_4514.png                 1           Ross\n",
       "387   friends_faces_160\\friends_1129_3020.png                 4         Monica\n",
       "2509    friends_faces_160\\friends_314_847.png                 2       Chandler\n",
       "3241   friends_faces_160\\friends_636_1555.png                 1           Ross\n",
       "3183   friends_faces_160\\friends_629_1495.png                 3         Phoebe"
      ]
     },
     "execution_count": 13,
     "metadata": {},
     "output_type": "execute_result"
    }
   ],
   "source": [
    "df_val.head()"
   ]
  },
  {
   "cell_type": "code",
   "execution_count": 14,
   "metadata": {},
   "outputs": [
    {
     "data": {
      "text/plain": [
       "(252, 3)"
      ]
     },
     "execution_count": 14,
     "metadata": {},
     "output_type": "execute_result"
    }
   ],
   "source": [
    "df_val.shape"
   ]
  },
  {
   "cell_type": "code",
   "execution_count": 15,
   "metadata": {},
   "outputs": [
    {
     "data": {
      "text/plain": [
       "Rachel      51\n",
       "Monica      43\n",
       "Ross        41\n",
       "Phoebe      40\n",
       "Joey        40\n",
       "Chandler    37\n",
       "Name: character_name, dtype: int64"
      ]
     },
     "execution_count": 15,
     "metadata": {},
     "output_type": "execute_result"
    }
   ],
   "source": [
    "df_val.character_name.value_counts()"
   ]
  },
  {
   "cell_type": "code",
   "execution_count": 17,
   "metadata": {},
   "outputs": [
    {
     "data": {
      "text/plain": [
       "(756, 3)"
      ]
     },
     "execution_count": 17,
     "metadata": {},
     "output_type": "execute_result"
    }
   ],
   "source": [
    "df_train.shape"
   ]
  },
  {
   "cell_type": "code",
   "execution_count": 18,
   "metadata": {},
   "outputs": [
    {
     "data": {
      "text/plain": [
       "Rachel      154\n",
       "Monica      127\n",
       "Ross        124\n",
       "Phoebe      122\n",
       "Joey        119\n",
       "Chandler    110\n",
       "Name: character_name, dtype: int64"
      ]
     },
     "execution_count": 18,
     "metadata": {},
     "output_type": "execute_result"
    }
   ],
   "source": [
    "df_train.character_name.value_counts()"
   ]
  },
  {
   "cell_type": "markdown",
   "metadata": {},
   "source": [
    "### Loading images"
   ]
  },
  {
   "cell_type": "code",
   "execution_count": 19,
   "metadata": {},
   "outputs": [],
   "source": [
    "X_train=[]\n",
    "for path in df_train.image_path:\n",
    "    image=cv2.imread(path)\n",
    "    image=cv2.resize(image, (160,160))\n",
    "    X_train.append(image)\n",
    "X_train=np.array(X_train).astype(np.float32)"
   ]
  },
  {
   "cell_type": "code",
   "execution_count": 20,
   "metadata": {},
   "outputs": [
    {
     "data": {
      "text/plain": [
       "(756, 160, 160, 3)"
      ]
     },
     "execution_count": 20,
     "metadata": {},
     "output_type": "execute_result"
    }
   ],
   "source": [
    "X_train.shape"
   ]
  },
  {
   "cell_type": "code",
   "execution_count": null,
   "metadata": {},
   "outputs": [],
   "source": []
  },
  {
   "cell_type": "code",
   "execution_count": 21,
   "metadata": {},
   "outputs": [],
   "source": [
    "X_val=[]\n",
    "for path in df_val.image_path:\n",
    "    image=cv2.imread(path)\n",
    "    image=cv2.resize(image, (160,160))\n",
    "    X_val.append(image)\n",
    "X_val=np.array(X_val).astype(np.float32)"
   ]
  },
  {
   "cell_type": "code",
   "execution_count": 22,
   "metadata": {
    "scrolled": true
   },
   "outputs": [
    {
     "data": {
      "text/plain": [
       "(252, 160, 160, 3)"
      ]
     },
     "execution_count": 22,
     "metadata": {},
     "output_type": "execute_result"
    }
   ],
   "source": [
    "X_val.shape"
   ]
  },
  {
   "cell_type": "code",
   "execution_count": null,
   "metadata": {},
   "outputs": [],
   "source": []
  },
  {
   "cell_type": "code",
   "execution_count": 23,
   "metadata": {},
   "outputs": [],
   "source": [
    "X_test=[]\n",
    "for path in df_test.image_path:\n",
    "    image=cv2.imread(path)\n",
    "    image=cv2.resize(image, (160,160))\n",
    "    X_test.append(image)\n",
    "X_test=np.array(X_test).astype(np.float32)"
   ]
  },
  {
   "cell_type": "code",
   "execution_count": 24,
   "metadata": {
    "scrolled": true
   },
   "outputs": [
    {
     "data": {
      "text/plain": [
       "(253, 160, 160, 3)"
      ]
     },
     "execution_count": 24,
     "metadata": {},
     "output_type": "execute_result"
    }
   ],
   "source": [
    "X_test.shape"
   ]
  },
  {
   "cell_type": "markdown",
   "metadata": {},
   "source": [
    "### Getting targets (= character's names)"
   ]
  },
  {
   "cell_type": "code",
   "execution_count": 25,
   "metadata": {},
   "outputs": [],
   "source": [
    "y_train=np.array(df_train.character_number)"
   ]
  },
  {
   "cell_type": "code",
   "execution_count": 26,
   "metadata": {},
   "outputs": [
    {
     "data": {
      "text/plain": [
       "(756,)"
      ]
     },
     "execution_count": 26,
     "metadata": {},
     "output_type": "execute_result"
    }
   ],
   "source": [
    "y_train.shape"
   ]
  },
  {
   "cell_type": "code",
   "execution_count": null,
   "metadata": {},
   "outputs": [],
   "source": []
  },
  {
   "cell_type": "code",
   "execution_count": 27,
   "metadata": {},
   "outputs": [],
   "source": [
    "y_val=np.array(df_val.character_number)"
   ]
  },
  {
   "cell_type": "code",
   "execution_count": 28,
   "metadata": {},
   "outputs": [
    {
     "data": {
      "text/plain": [
       "(252,)"
      ]
     },
     "execution_count": 28,
     "metadata": {},
     "output_type": "execute_result"
    }
   ],
   "source": [
    "y_val.shape"
   ]
  },
  {
   "cell_type": "code",
   "execution_count": 29,
   "metadata": {},
   "outputs": [],
   "source": [
    "y_test=np.array(df_test.character_number)"
   ]
  },
  {
   "cell_type": "code",
   "execution_count": 30,
   "metadata": {},
   "outputs": [
    {
     "data": {
      "text/plain": [
       "(253,)"
      ]
     },
     "execution_count": 30,
     "metadata": {},
     "output_type": "execute_result"
    }
   ],
   "source": [
    "y_test.shape"
   ]
  },
  {
   "cell_type": "markdown",
   "metadata": {},
   "source": [
    "## Neural Network"
   ]
  },
  {
   "cell_type": "code",
   "execution_count": 31,
   "metadata": {},
   "outputs": [],
   "source": [
    "import torch\n",
    "import torch.nn as nn\n",
    "import torch.nn.functional as F\n",
    "import torch.optim as optim\n",
    "from torchvision import datasets, transforms\n",
    "from torch.utils.data import TensorDataset, DataLoader"
   ]
  },
  {
   "cell_type": "code",
   "execution_count": 32,
   "metadata": {},
   "outputs": [],
   "source": [
    "batch_size = 16\n",
    "dtype=torch.float32\n",
    "device  = torch.device(\"cpu\")\n",
    "learning_rate = 1e-6"
   ]
  },
  {
   "cell_type": "markdown",
   "metadata": {},
   "source": [
    "### Parameters"
   ]
  },
  {
   "cell_type": "code",
   "execution_count": 33,
   "metadata": {},
   "outputs": [],
   "source": [
    "train_size=y_train.shape[0]"
   ]
  },
  {
   "cell_type": "markdown",
   "metadata": {},
   "source": [
    "### Normalizing the data "
   ]
  },
  {
   "cell_type": "code",
   "execution_count": 34,
   "metadata": {},
   "outputs": [],
   "source": [
    "X_train_in=X_train/255\n",
    "X_val_in=X_val/255\n",
    "X_test_in=X_test/255"
   ]
  },
  {
   "cell_type": "markdown",
   "metadata": {},
   "source": [
    "### Reshaping X for PyTorch processing"
   ]
  },
  {
   "cell_type": "code",
   "execution_count": 35,
   "metadata": {},
   "outputs": [],
   "source": [
    "X_train_in = X_train_in.transpose(0,3,1,2)\n",
    "X_val_in = X_val_in.transpose(0,3,1,2)\n",
    "X_test_in = X_test_in.transpose(0,3,1,2)"
   ]
  },
  {
   "cell_type": "code",
   "execution_count": 36,
   "metadata": {},
   "outputs": [
    {
     "data": {
      "text/plain": [
       "1.0"
      ]
     },
     "execution_count": 36,
     "metadata": {},
     "output_type": "execute_result"
    }
   ],
   "source": [
    "np.max(X_train_in[0,1,...])"
   ]
  },
  {
   "cell_type": "markdown",
   "metadata": {},
   "source": [
    "### Generating datasets and data loaders"
   ]
  },
  {
   "cell_type": "code",
   "execution_count": 37,
   "metadata": {},
   "outputs": [],
   "source": [
    "train_dataset = TensorDataset(torch.from_numpy(X_train_in),torch.from_numpy(y_train))\n",
    "val_dataset = TensorDataset(torch.from_numpy(X_val_in),torch.from_numpy(y_val))"
   ]
  },
  {
   "cell_type": "code",
   "execution_count": 38,
   "metadata": {},
   "outputs": [],
   "source": [
    "val_batch_size = val_dataset.tensors[1].shape[0]\n",
    "val_loader = DataLoader(val_dataset,batch_size=val_batch_size, shuffle=True)\n",
    "train_loader = DataLoader(train_dataset,batch_size=batch_size, shuffle=True)"
   ]
  },
  {
   "cell_type": "markdown",
   "metadata": {},
   "source": [
    "### Defining train and validate functions"
   ]
  },
  {
   "cell_type": "code",
   "execution_count": 39,
   "metadata": {},
   "outputs": [],
   "source": [
    "def train(model, device, train_loader, optimizer, epoch, train_size=train_size):\n",
    "    model.train()\n",
    "    mean_train_loss = 0\n",
    "    correct = 0\n",
    "    for data, target in train_loader:\n",
    "\n",
    "        data, target = data.to(device), target.to(device)\n",
    "        optimizer.zero_grad()\n",
    "        output = model(data)\n",
    "        loss = F.nll_loss(output, target, reduction='sum')\n",
    "        loss.backward()\n",
    "        mean_train_loss+=(loss.item()/ train_size)\n",
    "        pred = output.argmax(dim=1, keepdim=True) # get the index of the max log-probability\n",
    "        correct += pred.eq(target.view_as(pred)).sum().item()\n",
    "        optimizer.step()\n",
    "        \n",
    "#     print(f'Train Epoch: {epoch} \\tLoss: {mean_train_loss:.6f}\\tCorrect: {correct}')\n",
    "    return mean_train_loss, (correct/ train_size)"
   ]
  },
  {
   "cell_type": "code",
   "execution_count": 40,
   "metadata": {},
   "outputs": [],
   "source": [
    "def validate(model, device, val_loader):\n",
    "    model.eval()\n",
    "    val_loss = 0\n",
    "    correct = 0\n",
    "    with torch.no_grad():\n",
    "        for data, target in val_loader:\n",
    "            data, target = data.to(device), target.to(device)\n",
    "            output = model(data)\n",
    "            val_loss += F.nll_loss(output, target, reduction='sum').item() # sum up batch loss\n",
    "            pred = output.argmax(dim=1, keepdim=True) # get the index of the max log-probability\n",
    "            correct += pred.eq(target.view_as(pred)).sum().item()\n",
    "\n",
    "    val_loss /= len(val_loader.dataset)\n",
    "\n",
    "    return val_loss, (correct/len(val_loader.dataset))"
   ]
  },
  {
   "cell_type": "markdown",
   "metadata": {},
   "source": [
    "# Model 1 : 4 convolutional layers (filters = 32, 64, 256, 512)"
   ]
  },
  {
   "cell_type": "code",
   "execution_count": 41,
   "metadata": {},
   "outputs": [],
   "source": [
    "epochs = 60\n",
    "PYT_PATH = 'CNN_image1.pyt'"
   ]
  },
  {
   "cell_type": "markdown",
   "metadata": {},
   "source": [
    "### Setting model and optimizer"
   ]
  },
  {
   "cell_type": "code",
   "execution_count": 44,
   "metadata": {},
   "outputs": [],
   "source": [
    "from model_nn_bn_cv4 import Net\n",
    "model1 = Net().to(device)\n",
    "# optimizer = optim.SGD(model.parameters(), lr=learning_rate, momentum=0.9)\n",
    "optimizer1 = optim.RMSprop(model1.parameters(), lr=learning_rate, momentum=0.9)\n",
    "# optimizer = optim.Adam(model.parameters(), lr=learning_rate)\n",
    "# optimizer = optim.Adadelta(model.parameters(), lr=learning_rate)\n",
    "loss_train_list=[]\n",
    "loss_val_list=[]\n",
    "correct_train_list=[]\n",
    "correct_val_list=[]\n",
    "\n",
    "correct_best = 0."
   ]
  },
  {
   "cell_type": "markdown",
   "metadata": {},
   "source": [
    "### Training the Neural Network"
   ]
  },
  {
   "cell_type": "code",
   "execution_count": 45,
   "metadata": {
    "scrolled": true
   },
   "outputs": [
    {
     "data": {
      "image/png": "[encoded data removed]",
      "text/plain": [
       "<Figure size 864x288 with 2 Axes>"
      ]
     },
     "metadata": {
      "needs_background": "light"
     },
     "output_type": "display_data"
    }
   ],
   "source": [
    "from IPython.display import display, clear_output\n",
    "\n",
    "fig = plt.figure(figsize = (12,4))\n",
    "ax1, ax2 = fig.subplots(1,2)\n",
    "\n",
    "\n",
    "for epoch in range(1, epochs + 1):\n",
    "    loss_train, correct_train=train(model1, device, train_loader, optimizer1, epoch)\n",
    "    loss_val, correct_val=validate(model1, device, val_loader)\n",
    "    \n",
    "    loss_train_list.append(loss_train)\n",
    "    loss_val_list.append(loss_val)\n",
    "    correct_train_list.append(correct_train)\n",
    "    correct_val_list.append(correct_val)\n",
    "    \n",
    "    if correct_best < correct_val:\n",
    "        correct_best = correct_val\n",
    "        torch.save(model1.state_dict(), PYT_PATH)\n",
    "\n",
    "    ax1.plot(loss_train_list, 'b-')\n",
    "    ax1.plot(loss_val_list,'r--')\n",
    "    ax1.title.set_text(f'train loss = {loss_train:.3f} | val loss = {loss_val:.3f}')\n",
    "    ax2.plot(correct_train_list, 'b-')\n",
    "    ax2.plot(correct_val_list,'r--')\n",
    "    ax2.title.set_text(f'train correct = {100.*correct_train_list[-1]:.2f}% | val correct = {100.*correct_val_list[-1]:.2f}% | best = {100.*correct_best:.2f}%')\n",
    "    plt.savefig('evolution_'+PYT_PATH+'.svg')\n",
    "    \n",
    "    np.savez('evolution_'+PYT_PATH,\n",
    "        loss_train_list=loss_train_list,\n",
    "        loss_val_list=loss_val_list,\n",
    "        correct_train_list=correct_train_list,\n",
    "        correct_val_list=correct_val_list)\n",
    "    \n",
    "    display(fig)\n",
    "    clear_output(wait=True)\n"
   ]
  },
  {
   "cell_type": "code",
   "execution_count": null,
   "metadata": {},
   "outputs": [],
   "source": [
    "# 2 minutes / epoch"
   ]
  },
  {
   "cell_type": "markdown",
   "metadata": {},
   "source": [
    "Futur possible improvement: include a condition (on the sliding average of correct_val?) to exit the loop of epochs "
   ]
  },
  {
   "cell_type": "markdown",
   "metadata": {},
   "source": [
    "## Evaluation of the model"
   ]
  },
  {
   "cell_type": "markdown",
   "metadata": {},
   "source": [
    "### Load test data"
   ]
  },
  {
   "cell_type": "code",
   "execution_count": 46,
   "metadata": {},
   "outputs": [],
   "source": [
    "X_test = torch.from_numpy(X_test_in).to(device)\n",
    "Y_test = torch.from_numpy(y_test).to(device)"
   ]
  },
  {
   "cell_type": "markdown",
   "metadata": {},
   "source": [
    "### Load already trained model"
   ]
  },
  {
   "cell_type": "code",
   "execution_count": 47,
   "metadata": {},
   "outputs": [
    {
     "data": {
      "text/plain": [
       "<All keys matched successfully>"
      ]
     },
     "execution_count": 47,
     "metadata": {},
     "output_type": "execute_result"
    }
   ],
   "source": [
    "from model_nn_bn_cv4 import Net\n",
    "model1_best = Net().to(device)\n",
    "# load best state of the model\n",
    "model1_best.load_state_dict(torch.load(PYT_PATH))"
   ]
  },
  {
   "cell_type": "markdown",
   "metadata": {},
   "source": [
    "### Use the network for inference"
   ]
  },
  {
   "cell_type": "code",
   "execution_count": 48,
   "metadata": {},
   "outputs": [],
   "source": [
    "# set to eval for inference\n",
    "model1_best.eval()\n",
    "with torch.no_grad():\n",
    "    output = model1_best(X_test)\n",
    "    Y_hat1 = output.argmax(dim=1, keepdim=True).numpy().squeeze()"
   ]
  },
  {
   "cell_type": "markdown",
   "metadata": {},
   "source": [
    "### Calculate the confusion matrix"
   ]
  },
  {
   "cell_type": "code",
   "execution_count": 49,
   "metadata": {},
   "outputs": [],
   "source": [
    "from sklearn import metrics\n",
    "import seaborn as sns"
   ]
  },
  {
   "cell_type": "code",
   "execution_count": 50,
   "metadata": {},
   "outputs": [
    {
     "data": {
      "text/plain": [
       "0.8537549407114624"
      ]
     },
     "execution_count": 50,
     "metadata": {},
     "output_type": "execute_result"
    }
   ],
   "source": [
    "metrics.accuracy_score(Y_test,Y_hat1)"
   ]
  },
  {
   "cell_type": "code",
   "execution_count": 64,
   "metadata": {
    "scrolled": true
   },
   "outputs": [
    {
     "data": {
      "image/png": "[encoded data removed]",
      "text/plain": [
       "<Figure size 432x288 with 2 Axes>"
      ]
     },
     "metadata": {
      "needs_background": "light"
     },
     "output_type": "display_data"
    }
   ],
   "source": [
    "name_list=['Rachel', 'Ross', 'Chandler', 'Phoebe', 'Monica', 'Joey']\n",
    "c_matrix = pd.DataFrame(metrics.confusion_matrix(Y_test,Y_hat1), columns=name_list, index=name_list)\n",
    "\n",
    "ax=sns.heatmap(c_matrix, annot=True)\n",
    "plt.xlabel('Predicted Name', fontsize=14)\n",
    "plt.ylabel('Actual Name', fontsize=14)\n",
    "ax.set_xticklabels(['Rachel', 'Ross', 'Chandler', 'Phoebe', 'Monica', 'Joey'],fontsize=12, rotation=45)\n",
    "ax.set_yticklabels(['Rachel', 'Ross', 'Chandler', 'Phoebe', 'Monica', 'Joey'],fontsize=12)\n",
    "plt.savefig('NN_confusion matrix_bn_cv4.svg', format='svg')\n",
    "plt.show()"
   ]
  },
  {
   "cell_type": "markdown",
   "metadata": {},
   "source": [
    "# Model2:  doubling the convolutional layers     \n",
    "## (filters = 32,32,64,64,256,256,512,512)"
   ]
  },
  {
   "cell_type": "code",
   "execution_count": 52,
   "metadata": {},
   "outputs": [],
   "source": [
    "epochs = 100\n",
    "PYT_PATH = 'CNN_image2.pyt'"
   ]
  },
  {
   "cell_type": "code",
   "execution_count": 55,
   "metadata": {},
   "outputs": [],
   "source": [
    "from model_nn_bn_cv4x2 import Net\n",
    "model2 = Net().to(device)\n",
    "optimizer2 = optim.RMSprop(model2.parameters(), lr=learning_rate, momentum=0.9)\n",
    "\n",
    "loss_train_list=[]\n",
    "loss_val_list=[]\n",
    "correct_train_list=[]\n",
    "correct_val_list=[]\n",
    "\n",
    "correct_best = 0."
   ]
  },
  {
   "cell_type": "code",
   "execution_count": 56,
   "metadata": {
    "scrolled": true
   },
   "outputs": [
    {
     "data": {
      "image/png": "[encoded data removed]",
      "text/plain": [
       "<Figure size 864x288 with 2 Axes>"
      ]
     },
     "metadata": {
      "needs_background": "light"
     },
     "output_type": "display_data"
    }
   ],
   "source": [
    "from IPython.display import display, clear_output\n",
    "\n",
    "fig = plt.figure(figsize = (12,4))\n",
    "ax1, ax2 = fig.subplots(1,2)\n",
    "\n",
    "\n",
    "for epoch in range(1, epochs + 1):\n",
    "    loss_train, correct_train=train(model2, device, train_loader, optimizer2, epoch)\n",
    "    loss_val, correct_val=validate(model2, device, val_loader)\n",
    "    \n",
    "    loss_train_list.append(loss_train)\n",
    "    loss_val_list.append(loss_val)\n",
    "    correct_train_list.append(correct_train)\n",
    "    correct_val_list.append(correct_val)\n",
    "    \n",
    "    if correct_best < correct_val:\n",
    "        correct_best = correct_val\n",
    "        torch.save(model2.state_dict(), PYT_PATH)\n",
    "\n",
    "    ax1.plot(loss_train_list, 'b-')\n",
    "    ax1.plot(loss_val_list,'r--')\n",
    "    ax1.title.set_text(f'train loss = {loss_train:.3f} | val loss = {loss_val:.3f}')\n",
    "    ax2.plot(correct_train_list, 'b-')\n",
    "    ax2.plot(correct_val_list,'r--')\n",
    "    ax2.title.set_text(f'train correct = {100.*correct_train_list[-1]:.2f}% | val correct = {100.*correct_val_list[-1]:.2f}% | best = {100.*correct_best:.2f}%')\n",
    "    plt.savefig('evolution_'+PYT_PATH+'.svg')\n",
    "    \n",
    "    np.savez('evolution_'+PYT_PATH,\n",
    "        loss_train_list=loss_train_list,\n",
    "        loss_val_list=loss_val_list,\n",
    "        correct_train_list=correct_train_list,\n",
    "        correct_val_list=correct_val_list)\n",
    "    \n",
    "    display(fig)\n",
    "    clear_output(wait=True)\n"
   ]
  },
  {
   "cell_type": "code",
   "execution_count": null,
   "metadata": {},
   "outputs": [],
   "source": [
    "# 8 minutes / epoch"
   ]
  },
  {
   "cell_type": "markdown",
   "metadata": {},
   "source": [
    "## Evaluation of the model"
   ]
  },
  {
   "cell_type": "markdown",
   "metadata": {},
   "source": [
    "### Load already trained model"
   ]
  },
  {
   "cell_type": "code",
   "execution_count": 57,
   "metadata": {},
   "outputs": [
    {
     "data": {
      "text/plain": [
       "<All keys matched successfully>"
      ]
     },
     "execution_count": 57,
     "metadata": {},
     "output_type": "execute_result"
    }
   ],
   "source": [
    "from model_nn_bn_cv4x2 import Net\n",
    "model2_best = Net().to(device)\n",
    "# load best state of the model\n",
    "model2_best.load_state_dict(torch.load(PYT_PATH))"
   ]
  },
  {
   "cell_type": "markdown",
   "metadata": {},
   "source": [
    "### Use the network for inference"
   ]
  },
  {
   "cell_type": "code",
   "execution_count": 58,
   "metadata": {},
   "outputs": [],
   "source": [
    "# set to eval for inference\n",
    "model2_best.eval()\n",
    "with torch.no_grad():\n",
    "    output = model2_best(X_test)\n",
    "    Y_hat2 = output.argmax(dim=1, keepdim=True).numpy().squeeze()"
   ]
  },
  {
   "cell_type": "markdown",
   "metadata": {},
   "source": [
    "### Calculate the confusion matrix"
   ]
  },
  {
   "cell_type": "code",
   "execution_count": 59,
   "metadata": {},
   "outputs": [
    {
     "data": {
      "text/plain": [
       "0.8656126482213439"
      ]
     },
     "execution_count": 59,
     "metadata": {},
     "output_type": "execute_result"
    }
   ],
   "source": [
    "metrics.accuracy_score(Y_test,Y_hat2)"
   ]
  },
  {
   "cell_type": "code",
   "execution_count": 65,
   "metadata": {
    "scrolled": true
   },
   "outputs": [
    {
     "data": {
      "image/png": "[encoded data removed]",
      "text/plain": [
       "<Figure size 432x288 with 2 Axes>"
      ]
     },
     "metadata": {
      "needs_background": "light"
     },
     "output_type": "display_data"
    }
   ],
   "source": [
    "\n",
    "name_list=['Rachel', 'Ross', 'Chandler', 'Phoebe', 'Monica', 'Joey']\n",
    "c_matrix = pd.DataFrame(metrics.confusion_matrix(Y_test,Y_hat2), columns=name_list, index=name_list)\n",
    "\n",
    "ax=sns.heatmap(c_matrix, annot=True)\n",
    "plt.xlabel('Predicted Name', fontsize=14)\n",
    "plt.ylabel('Actual Name', fontsize=14)\n",
    "ax.set_xticklabels(['Rachel', 'Ross', 'Chandler', 'Phoebe', 'Monica', 'Joey'],fontsize=12, rotation=45)\n",
    "ax.set_yticklabels(['Rachel', 'Ross', 'Chandler', 'Phoebe', 'Monica', 'Joey'],fontsize=12)\n",
    "plt.savefig('NN_confusion matrix_bn_cv4x2.svg', format='svg')\n",
    "plt.show()"
   ]
  },
  {
   "cell_type": "code",
   "execution_count": null,
   "metadata": {},
   "outputs": [],
   "source": []
  },
  {
   "cell_type": "code",
   "execution_count": null,
   "metadata": {},
   "outputs": [],
   "source": []
  }
 ],
 "metadata": {
  "kernelspec": {
   "display_name": "Python 3",
   "language": "python",
   "name": "python3"
  },
  "language_info": {
   "codemirror_mode": {
    "name": "ipython",
    "version": 3
   },
   "file_extension": ".py",
   "mimetype": "text/x-python",
   "name": "python",
   "nbconvert_exporter": "python",
   "pygments_lexer": "ipython3",
   "version": "3.7.3"
  },
  "toc": {
   "base_numbering": 1,
   "nav_menu": {},
   "number_sections": true,
   "sideBar": true,
   "skip_h1_title": true,
   "title_cell": "Table of Contents",
   "title_sidebar": "Contents",
   "toc_cell": false,
   "toc_position": {},
   "toc_section_display": true,
   "toc_window_display": false
  }
 },
 "nbformat": 4,
 "nbformat_minor": 2
}
