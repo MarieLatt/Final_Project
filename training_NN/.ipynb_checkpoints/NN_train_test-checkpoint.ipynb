{
 "cells": [
  {
   "cell_type": "code",
   "execution_count": 27,
   "metadata": {},
   "outputs": [],
   "source": [
    "from __future__ import division\n",
    "import pandas as pd\n",
    "import numpy as np\n",
    "import matplotlib.pyplot as plt\n",
    "import cv2\n",
    "%matplotlib inline"
   ]
  },
  {
   "cell_type": "code",
   "execution_count": 28,
   "metadata": {},
   "outputs": [],
   "source": [
    "df=pd.read_csv('friends_faces_160/target.txt', sep='\\t', header=None)\n",
    "df.columns=['image_path','character_number','character_name']"
   ]
  },
  {
   "cell_type": "code",
   "execution_count": 29,
   "metadata": {},
   "outputs": [
    {
     "data": {
      "text/html": [
       "<div>\n",
       "<style scoped>\n",
       "    .dataframe tbody tr th:only-of-type {\n",
       "        vertical-align: middle;\n",
       "    }\n",
       "\n",
       "    .dataframe tbody tr th {\n",
       "        vertical-align: top;\n",
       "    }\n",
       "\n",
       "    .dataframe thead th {\n",
       "        text-align: right;\n",
       "    }\n",
       "</style>\n",
       "<table border=\"1\" class=\"dataframe\">\n",
       "  <thead>\n",
       "    <tr style=\"text-align: right;\">\n",
       "      <th></th>\n",
       "      <th>image_path</th>\n",
       "      <th>character_number</th>\n",
       "      <th>character_name</th>\n",
       "    </tr>\n",
       "  </thead>\n",
       "  <tbody>\n",
       "    <tr>\n",
       "      <th>0</th>\n",
       "      <td>friends_faces_160\\Friends_new_0_1.png</td>\n",
       "      <td>5</td>\n",
       "      <td>Joey</td>\n",
       "    </tr>\n",
       "    <tr>\n",
       "      <th>1</th>\n",
       "      <td>friends_faces_160\\friends_0_0.png</td>\n",
       "      <td>7</td>\n",
       "      <td>Invalid</td>\n",
       "    </tr>\n",
       "    <tr>\n",
       "      <th>2</th>\n",
       "      <td>friends_faces_160\\friends_1000_2597.png</td>\n",
       "      <td>7</td>\n",
       "      <td>Invalid</td>\n",
       "    </tr>\n",
       "    <tr>\n",
       "      <th>3</th>\n",
       "      <td>friends_faces_160\\friends_1000_2598.png</td>\n",
       "      <td>7</td>\n",
       "      <td>Invalid</td>\n",
       "    </tr>\n",
       "    <tr>\n",
       "      <th>4</th>\n",
       "      <td>friends_faces_160\\friends_1001_2599.png</td>\n",
       "      <td>7</td>\n",
       "      <td>Invalid</td>\n",
       "    </tr>\n",
       "  </tbody>\n",
       "</table>\n",
       "</div>"
      ],
      "text/plain": [
       "                                image_path  character_number character_name\n",
       "0    friends_faces_160\\Friends_new_0_1.png                 5           Joey\n",
       "1        friends_faces_160\\friends_0_0.png                 7        Invalid\n",
       "2  friends_faces_160\\friends_1000_2597.png                 7        Invalid\n",
       "3  friends_faces_160\\friends_1000_2598.png                 7        Invalid\n",
       "4  friends_faces_160\\friends_1001_2599.png                 7        Invalid"
      ]
     },
     "execution_count": 29,
     "metadata": {},
     "output_type": "execute_result"
    }
   ],
   "source": [
    "df.head()"
   ]
  },
  {
   "cell_type": "code",
   "execution_count": 30,
   "metadata": {},
   "outputs": [
    {
     "data": {
      "text/plain": [
       "Invalid     2750\n",
       "Other        283\n",
       "Rachel       256\n",
       "Monica       213\n",
       "Ross         207\n",
       "Phoebe       202\n",
       "Joey         199\n",
       "Chandler     184\n",
       "Name: character_name, dtype: int64"
      ]
     },
     "execution_count": 30,
     "metadata": {},
     "output_type": "execute_result"
    }
   ],
   "source": [
    "df['character_name'].value_counts()"
   ]
  },
  {
   "cell_type": "markdown",
   "metadata": {},
   "source": [
    "### Removing invalid and 'others' (= not Friends Gang)"
   ]
  },
  {
   "cell_type": "code",
   "execution_count": 31,
   "metadata": {},
   "outputs": [],
   "source": [
    "df_filtered=df.loc[df.character_number<6]"
   ]
  },
  {
   "cell_type": "code",
   "execution_count": 32,
   "metadata": {},
   "outputs": [
    {
     "data": {
      "text/html": [
       "<div>\n",
       "<style scoped>\n",
       "    .dataframe tbody tr th:only-of-type {\n",
       "        vertical-align: middle;\n",
       "    }\n",
       "\n",
       "    .dataframe tbody tr th {\n",
       "        vertical-align: top;\n",
       "    }\n",
       "\n",
       "    .dataframe thead th {\n",
       "        text-align: right;\n",
       "    }\n",
       "</style>\n",
       "<table border=\"1\" class=\"dataframe\">\n",
       "  <thead>\n",
       "    <tr style=\"text-align: right;\">\n",
       "      <th></th>\n",
       "      <th>image_path</th>\n",
       "      <th>character_number</th>\n",
       "      <th>character_name</th>\n",
       "    </tr>\n",
       "  </thead>\n",
       "  <tbody>\n",
       "    <tr>\n",
       "      <th>0</th>\n",
       "      <td>friends_faces_160\\Friends_new_0_1.png</td>\n",
       "      <td>5</td>\n",
       "      <td>Joey</td>\n",
       "    </tr>\n",
       "    <tr>\n",
       "      <th>14</th>\n",
       "      <td>friends_faces_160\\friends_1002_2612.png</td>\n",
       "      <td>0</td>\n",
       "      <td>Rachel</td>\n",
       "    </tr>\n",
       "    <tr>\n",
       "      <th>20</th>\n",
       "      <td>friends_faces_160\\friends_1004_2619.png</td>\n",
       "      <td>5</td>\n",
       "      <td>Joey</td>\n",
       "    </tr>\n",
       "    <tr>\n",
       "      <th>22</th>\n",
       "      <td>friends_faces_160\\friends_1004_2621.png</td>\n",
       "      <td>4</td>\n",
       "      <td>Monica</td>\n",
       "    </tr>\n",
       "    <tr>\n",
       "      <th>30</th>\n",
       "      <td>friends_faces_160\\friends_1006_2630.png</td>\n",
       "      <td>5</td>\n",
       "      <td>Joey</td>\n",
       "    </tr>\n",
       "  </tbody>\n",
       "</table>\n",
       "</div>"
      ],
      "text/plain": [
       "                                 image_path  character_number character_name\n",
       "0     friends_faces_160\\Friends_new_0_1.png                 5           Joey\n",
       "14  friends_faces_160\\friends_1002_2612.png                 0         Rachel\n",
       "20  friends_faces_160\\friends_1004_2619.png                 5           Joey\n",
       "22  friends_faces_160\\friends_1004_2621.png                 4         Monica\n",
       "30  friends_faces_160\\friends_1006_2630.png                 5           Joey"
      ]
     },
     "execution_count": 32,
     "metadata": {},
     "output_type": "execute_result"
    }
   ],
   "source": [
    "df_filtered.head()"
   ]
  },
  {
   "cell_type": "markdown",
   "metadata": {},
   "source": [
    "### Loading images"
   ]
  },
  {
   "cell_type": "code",
   "execution_count": 33,
   "metadata": {},
   "outputs": [],
   "source": [
    "X=[]\n",
    "for path in df_filtered.image_path:\n",
    "    image=cv2.imread(path)\n",
    "    image=cv2.resize(image, (160,160))\n",
    "    X.append(image)\n",
    "X=np.array(X).astype(np.float32)"
   ]
  },
  {
   "cell_type": "code",
   "execution_count": 34,
   "metadata": {},
   "outputs": [
    {
     "data": {
      "text/plain": [
       "(1261, 160, 160, 3)"
      ]
     },
     "execution_count": 34,
     "metadata": {},
     "output_type": "execute_result"
    }
   ],
   "source": [
    "X.shape"
   ]
  },
  {
   "cell_type": "markdown",
   "metadata": {},
   "source": [
    "### Getting targets (= character's names)"
   ]
  },
  {
   "cell_type": "code",
   "execution_count": 35,
   "metadata": {},
   "outputs": [],
   "source": [
    "y=np.array(df_filtered.character_number)"
   ]
  },
  {
   "cell_type": "code",
   "execution_count": 36,
   "metadata": {},
   "outputs": [
    {
     "data": {
      "text/plain": [
       "(1261,)"
      ]
     },
     "execution_count": 36,
     "metadata": {},
     "output_type": "execute_result"
    }
   ],
   "source": [
    "y.shape"
   ]
  },
  {
   "cell_type": "markdown",
   "metadata": {},
   "source": [
    "## Neural Network"
   ]
  },
  {
   "cell_type": "code",
   "execution_count": 37,
   "metadata": {},
   "outputs": [],
   "source": [
    "import torch\n",
    "import torch.nn as nn\n",
    "import torch.nn.functional as F\n",
    "import torch.optim as optim\n",
    "from torchvision import datasets, transforms\n",
    "from torch.utils.data import TensorDataset, DataLoader"
   ]
  },
  {
   "cell_type": "markdown",
   "metadata": {},
   "source": [
    "### Parameters"
   ]
  },
  {
   "cell_type": "code",
   "execution_count": 46,
   "metadata": {},
   "outputs": [],
   "source": [
    "batch_size = 8\n",
    "dtype=torch.float32\n",
    "device  = torch.device(\"cpu\")\n",
    "train_size = 1000\n",
    "learning_rate = 1e-5\n",
    "epochs = 35\n",
    "PYT_PATH = 'Conv_net_image.pyt'"
   ]
  },
  {
   "cell_type": "code",
   "execution_count": 13,
   "metadata": {},
   "outputs": [
    {
     "data": {
      "text/plain": [
       "Rachel      200\n",
       "Monica      167\n",
       "Joey        166\n",
       "Phoebe      163\n",
       "Ross        160\n",
       "Chandler    144\n",
       "Name: character_name, dtype: int64"
      ]
     },
     "execution_count": 13,
     "metadata": {},
     "output_type": "execute_result"
    }
   ],
   "source": [
    "df_filtered.character_name[:train_size].value_counts()"
   ]
  },
  {
   "cell_type": "code",
   "execution_count": 14,
   "metadata": {
    "scrolled": true
   },
   "outputs": [
    {
     "data": {
      "text/plain": [
       "(1000, 160, 160, 3)"
      ]
     },
     "execution_count": 14,
     "metadata": {},
     "output_type": "execute_result"
    }
   ],
   "source": [
    "X[:train_size,...].shape"
   ]
  },
  {
   "cell_type": "markdown",
   "metadata": {},
   "source": [
    "### Normalizing the data "
   ]
  },
  {
   "cell_type": "code",
   "execution_count": 39,
   "metadata": {},
   "outputs": [],
   "source": [
    "X_in=X/255"
   ]
  },
  {
   "cell_type": "markdown",
   "metadata": {},
   "source": [
    "### Reshaping X for PyTorch processing"
   ]
  },
  {
   "cell_type": "code",
   "execution_count": 40,
   "metadata": {},
   "outputs": [],
   "source": [
    "X_in = X_in.transpose(0,3,1,2)"
   ]
  },
  {
   "cell_type": "code",
   "execution_count": 41,
   "metadata": {},
   "outputs": [
    {
     "data": {
      "text/plain": [
       "1.0"
      ]
     },
     "execution_count": 41,
     "metadata": {},
     "output_type": "execute_result"
    }
   ],
   "source": [
    "np.max(X_in[0,1,...])"
   ]
  },
  {
   "cell_type": "markdown",
   "metadata": {},
   "source": [
    "### Generating datasets and data loaders"
   ]
  },
  {
   "cell_type": "code",
   "execution_count": 17,
   "metadata": {},
   "outputs": [],
   "source": [
    "train_dataset = TensorDataset(torch.from_numpy(X_in[:train_size,...]),torch.from_numpy(y[:train_size]))\n",
    "test_dataset = TensorDataset(torch.from_numpy(X_in[train_size:,...]),torch.from_numpy(y[train_size:]))"
   ]
  },
  {
   "cell_type": "code",
   "execution_count": 18,
   "metadata": {},
   "outputs": [],
   "source": [
    "test_batch_size = test_dataset.tensors[1].shape[0]\n",
    "test_loader = DataLoader(test_dataset,batch_size=test_batch_size, shuffle=True)\n",
    "train_loader = DataLoader(train_dataset,batch_size=batch_size, shuffle=True)"
   ]
  },
  {
   "cell_type": "markdown",
   "metadata": {},
   "source": [
    "### Defining train and test functions"
   ]
  },
  {
   "cell_type": "code",
   "execution_count": 19,
   "metadata": {},
   "outputs": [],
   "source": [
    "def train(model, device, train_loader, optimizer, epoch, train_size=train_size):\n",
    "    model.train()\n",
    "    mean_train_loss = 0\n",
    "    correct = 0\n",
    "    for data, target in train_loader:\n",
    "\n",
    "        data, target = data.to(device), target.to(device)\n",
    "        optimizer.zero_grad()\n",
    "        output = model(data)\n",
    "        loss = F.nll_loss(output, target, reduction='sum')\n",
    "        loss.backward()\n",
    "        mean_train_loss+=(loss.item()/ train_size)\n",
    "        pred = output.argmax(dim=1, keepdim=True) # get the index of the max log-probability\n",
    "        correct += pred.eq(target.view_as(pred)).sum().item()\n",
    "        optimizer.step()\n",
    "        \n",
    "#     print(f'Train Epoch: {epoch} \\tLoss: {mean_train_loss:.6f}\\tCorrect: {correct}')\n",
    "    return mean_train_loss, (correct/ train_size)"
   ]
  },
  {
   "cell_type": "code",
   "execution_count": 20,
   "metadata": {},
   "outputs": [],
   "source": [
    "def test(model, device, test_loader):\n",
    "    model.eval()\n",
    "    test_loss = 0\n",
    "    correct = 0\n",
    "    with torch.no_grad():\n",
    "        for data, target in test_loader:\n",
    "            data, target = data.to(device), target.to(device)\n",
    "            output = model(data)\n",
    "            test_loss += F.nll_loss(output, target, reduction='sum').item() # sum up batch loss\n",
    "            pred = output.argmax(dim=1, keepdim=True) # get the index of the max log-probability\n",
    "            correct += pred.eq(target.view_as(pred)).sum().item()\n",
    "\n",
    "    test_loss /= len(test_loader.dataset)\n",
    "\n",
    "#     print('>> Test set: Average loss: {:.4f}, Accuracy: {}/{} ({:.1f}%)'.format(\n",
    "#         test_loss, correct, len(test_loader.dataset),\n",
    "#         100. * correct / len(test_loader.dataset)))\n",
    "    return test_loss, (correct/len(test_loader.dataset))"
   ]
  },
  {
   "cell_type": "markdown",
   "metadata": {},
   "source": [
    "### Setting model and optimizer"
   ]
  },
  {
   "cell_type": "code",
   "execution_count": 21,
   "metadata": {},
   "outputs": [],
   "source": [
    "from model_nn import Net\n",
    "model = Net().to(device)\n",
    "# optimizer = optim.SGD(model.parameters(), lr=learning_rate, momentum=0.9)\n",
    "optimizer = optim.RMSprop(model.parameters(), lr=learning_rate, momentum=0.9)\n",
    "# optimizer = optim.Adam(model.parameters(), lr=learning_rate)\n",
    "# optimizer = optim.Adadelta(model.parameters(), lr=learning_rate)\n",
    "loss_train_list=[]\n",
    "loss_test_list=[]\n",
    "correct_train_list=[]\n",
    "correct_test_list=[]\n",
    "\n",
    "correct_best = 0."
   ]
  },
  {
   "cell_type": "markdown",
   "metadata": {},
   "source": [
    "### Training the Neural Network"
   ]
  },
  {
   "cell_type": "code",
   "execution_count": null,
   "metadata": {
    "scrolled": true
   },
   "outputs": [],
   "source": [
    "from IPython.display import display, clear_output\n",
    "\n",
    "fig = plt.figure(figsize = (12,4))\n",
    "ax1, ax2 = fig.subplots(1,2)\n",
    "\n",
    "\n",
    "for epoch in range(1, epochs + 1):\n",
    "    loss_train, correct_train=train(model, device, train_loader, optimizer, epoch)\n",
    "    loss_test, correct_test=test(model, device, test_loader)\n",
    "    \n",
    "    loss_train_list.append(loss_train)\n",
    "    loss_test_list.append(loss_test)\n",
    "    correct_train_list.append(correct_train)\n",
    "    correct_test_list.append(correct_test)\n",
    "    \n",
    "    if correct_best < correct_test:\n",
    "        correct_best = correct_test\n",
    "        torch.save(model.state_dict(), PYT_PATH)\n",
    "\n",
    "    ax1.plot(loss_train_list, 'b-')\n",
    "    ax1.plot(loss_test_list,'r--')\n",
    "    ax1.title.set_text(f'train loss = {loss_train:.3f} | test loss = {loss_test:.3f}')\n",
    "    ax2.plot(correct_train_list, 'b-')\n",
    "    ax2.plot(correct_test_list,'r--')\n",
    "    ax2.title.set_text(f'train correct = {100.*correct_train_list[-1]:.2f}% | test correct = {100.*correct_test_list[-1]:.2f}% | best = {100.*correct_best:.2f}%')\n",
    "    plt.savefig('evolution_'+PYT_PATH+'.svg')\n",
    "    \n",
    "    np.savez('evolution_'+PYT_PATH,\n",
    "        loss_train_list=loss_train_list,\n",
    "        loss_test_list=loss_test_list,\n",
    "        correct_train_list=correct_train_list,\n",
    "        correct_test_list=correct_test_list)\n",
    "    \n",
    "    display(fig)\n",
    "    clear_output(wait=True)\n"
   ]
  },
  {
   "cell_type": "markdown",
   "metadata": {},
   "source": [
    "## Validation of the network"
   ]
  },
  {
   "cell_type": "markdown",
   "metadata": {},
   "source": [
    "### Load already trained model"
   ]
  },
  {
   "cell_type": "code",
   "execution_count": 47,
   "metadata": {},
   "outputs": [
    {
     "data": {
      "text/plain": [
       "<All keys matched successfully>"
      ]
     },
     "execution_count": 47,
     "metadata": {},
     "output_type": "execute_result"
    }
   ],
   "source": [
    "from model_nn import Net\n",
    "model = Net().to(device)\n",
    "# load best state of the model\n",
    "model.load_state_dict(torch.load(PYT_PATH))"
   ]
  },
  {
   "cell_type": "markdown",
   "metadata": {},
   "source": [
    "### Load some test data\n",
    "(Can be different from the test dataset used to test the training)"
   ]
  },
  {
   "cell_type": "code",
   "execution_count": 48,
   "metadata": {},
   "outputs": [],
   "source": [
    "X_test = torch.from_numpy(X_in[train_size:,...]).to(device)\n",
    "Y_test = torch.from_numpy(y[train_size:]).to(device)"
   ]
  },
  {
   "cell_type": "markdown",
   "metadata": {},
   "source": [
    "### Use the network for inference"
   ]
  },
  {
   "cell_type": "code",
   "execution_count": 49,
   "metadata": {},
   "outputs": [],
   "source": [
    "# set to eval for inference\n",
    "model.eval()\n",
    "with torch.no_grad():\n",
    "    output = model(X_test)\n",
    "    Y_hat = output.argmax(dim=1, keepdim=True).numpy().squeeze()"
   ]
  },
  {
   "cell_type": "markdown",
   "metadata": {},
   "source": [
    "### Calculate the confusion matrix"
   ]
  },
  {
   "cell_type": "code",
   "execution_count": 68,
   "metadata": {
    "scrolled": true
   },
   "outputs": [
    {
     "data": {
      "image/png": "[encoded data removed]",
      "text/plain": [
       "<Figure size 432x288 with 2 Axes>"
      ]
     },
     "metadata": {
      "needs_background": "light"
     },
     "output_type": "display_data"
    }
   ],
   "source": [
    "from sklearn import metrics\n",
    "import seaborn as sns\n",
    "name_list=['Rachel', 'Ross', 'Chandler', 'Phoebe', 'Monica', 'Joey']\n",
    "c_matrix = pd.DataFrame(metrics.confusion_matrix(Y_test,Y_hat), columns=name_list, index=name_list)\n",
    "\n",
    "ax=sns.heatmap(c_matrix, annot=True)\n",
    "plt.xlabel('Predicted Name', fontsize=14)\n",
    "plt.ylabel('Actual Name', fontsize=14)\n",
    "ax.set_xticklabels(['Rachel', 'Ross', 'Chandler', 'Phoebe', 'Monica', 'Joey'],fontsize=12, rotation=45)\n",
    "ax.set_yticklabels(['Rachel', 'Ross', 'Chandler', 'Phoebe', 'Monica', 'Joey'],fontsize=12)\n",
    "plt.savefig('NN_confusion matrix', format='svg')\n",
    "plt.show()"
   ]
  },
  {
   "cell_type": "code",
   "execution_count": null,
   "metadata": {},
   "outputs": [],
   "source": []
  }
 ],
 "metadata": {
  "kernelspec": {
   "display_name": "Python 3",
   "language": "python",
   "name": "python3"
  },
  "language_info": {
   "codemirror_mode": {
    "name": "ipython",
    "version": 3
   },
   "file_extension": ".py",
   "mimetype": "text/x-python",
   "name": "python",
   "nbconvert_exporter": "python",
   "pygments_lexer": "ipython3",
   "version": "3.7.3"
  },
  "toc": {
   "base_numbering": 1,
   "nav_menu": {},
   "number_sections": true,
   "sideBar": true,
   "skip_h1_title": true,
   "title_cell": "Table of Contents",
   "title_sidebar": "Contents",
   "toc_cell": false,
   "toc_position": {},
   "toc_section_display": true,
   "toc_window_display": false
  }
 },
 "nbformat": 4,
 "nbformat_minor": 2
}
